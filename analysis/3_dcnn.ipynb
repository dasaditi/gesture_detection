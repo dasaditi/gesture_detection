{
 "cells": [
  {
   "cell_type": "code",
   "execution_count": 165,
   "metadata": {},
   "outputs": [],
   "source": [
    "import argparse\n",
    "import os\n",
    "\n",
    "import matplotlib\n",
    "matplotlib.use('AGG')\n",
    "import matplotlib.pyplot as plt\n",
    "import numpy as np\n",
    "from keras.datasets import cifar10\n",
    "from keras.layers import (Activation, Conv3D, Dense, Dropout, Flatten,\n",
    "                          MaxPooling3D)\n",
    "from keras.layers.advanced_activations import LeakyReLU\n",
    "from keras.losses import categorical_crossentropy\n",
    "from keras.models import Sequential\n",
    "from keras.optimizers import Adam\n",
    "from keras.utils import np_utils\n",
    "from keras.utils.vis_utils import plot_model\n",
    "from sklearn.model_selection import train_test_split\n",
    "from tqdm import tqdm\n",
    "\n",
    "import numpy as np\n",
    "import cv2"
   ]
  },
  {
   "cell_type": "code",
   "execution_count": 166,
   "metadata": {},
   "outputs": [],
   "source": [
    "batch = 15\n",
    "epoch = 50\n",
    "#videos = \"/Users/gautamkarnataki/Downloads/train_val_videos/\"\n",
    "videos = \"/Users/gautamkarnataki/MIDS/w251/project/3dcnn/data/video_NEW3\"\n",
    "nclass = 19\n",
    "output = \"/Users/gautamkarnataki/MIDS/w251/project/3dcnn/3DCNN/3dcnnresult\"\n",
    "color = True\n",
    "skip = True\n",
    "depth = 10"
   ]
  },
  {
   "cell_type": "code",
   "execution_count": 167,
   "metadata": {},
   "outputs": [],
   "source": [
    "class Videoto3D:\n",
    "\n",
    "    def __init__(self, width, height, depth):\n",
    "        self.width = width\n",
    "        self.height = height\n",
    "        self.depth = depth\n",
    "\n",
    "    def video3d(self, filename, color=False, skip=True):\n",
    "        print('filename from videocapture = ', filename)\n",
    "        cap = cv2.VideoCapture(filename)\n",
    "        nframe = cap.get(cv2.CAP_PROP_FRAME_COUNT)\n",
    "        if skip:\n",
    "            frames = [x * nframe / self.depth for x in range(self.depth)]\n",
    "        else:\n",
    "            frames = [x for x in range(self.depth)]\n",
    "        framearray = []\n",
    "\n",
    "        for i in range(self.depth):\n",
    "            cap.set(cv2.CAP_PROP_POS_FRAMES, frames[i])\n",
    "            ret, frame = cap.read()\n",
    "            frame = cv2.resize(frame, (self.height, self.width))\n",
    "            if color:\n",
    "                framearray.append(frame)\n",
    "            else:\n",
    "                framearray.append(cv2.cvtColor(frame, cv2.COLOR_BGR2GRAY))\n",
    "\n",
    "        cap.release()\n",
    "        return np.array(framearray)\n",
    "\n",
    "\n",
    "    def get_UCF_classname(self, filename):\n",
    "        string = filename[filename.find('-',3)+9:]\n",
    "        #print(\"class =========>\", string[:string.find('_')])\n",
    "        return string[:string.find('_')]"
   ]
  },
  {
   "cell_type": "code",
   "execution_count": 168,
   "metadata": {},
   "outputs": [],
   "source": [
    "def loaddata(video_dir, vid3d, nclass, result_dir, color=False, skip=True):\n",
    "    print('Inside load data -------------------------------')\n",
    "    files = os.listdir(video_dir)\n",
    "    X = []\n",
    "    labels = []\n",
    "    labellist = []\n",
    "\n",
    "    pbar = tqdm(total=len(files))\n",
    "\n",
    "    for filename in files:\n",
    "        pbar.update(1)\n",
    "        if filename == '.DS_Store':\n",
    "            continue\n",
    "        name = os.path.join(video_dir, filename)\n",
    "        label = vid3d.get_UCF_classname(filename)\n",
    "        if label not in labellist:\n",
    "            if len(labellist) >= nclass:\n",
    "                continue\n",
    "            labellist.append(label)\n",
    "        labels.append(label)\n",
    "        X.append(vid3d.video3d(name, color=color, skip=skip))\n",
    "\n",
    "    pbar.close()\n",
    "    print(\"result_dir==============>\", result_dir)\n",
    "    with open(os.path.join(result_dir, 'classes.txt'), 'w') as fp:\n",
    "        for i in range(len(labellist)):\n",
    "            print(\"label ============================= \", labellist[i])\n",
    "            fp.write('{}\\n'.format(labellist[i]))\n",
    "\n",
    "    for num, label in enumerate(labellist):\n",
    "        for i in range(len(labels)):\n",
    "            if label == labels[i]:\n",
    "                labels[i] = num\n",
    "    if color:\n",
    "        return np.array(X).transpose((0, 2, 3, 4, 1)), labels\n",
    "    else:\n",
    "        return np.array(X).transpose((0, 2, 3, 1)), labels"
   ]
  },
  {
   "cell_type": "code",
   "execution_count": 169,
   "metadata": {},
   "outputs": [
    {
     "name": "stderr",
     "output_type": "stream",
     "text": [
      "  1%|▏         | 2/142 [00:00<00:09, 14.48it/s]"
     ]
    },
    {
     "name": "stdout",
     "output_type": "stream",
     "text": [
      "Inside load data -------------------------------\n",
      "filename from videocapture =  /Users/gautamkarnataki/MIDS/w251/project/3dcnn/data/video_NEW3/ASL_2008_05_12a_scene29-camera1_DRESS_v0_c5_train.mov\n",
      "filename from videocapture =  /Users/gautamkarnataki/MIDS/w251/project/3dcnn/data/video_NEW3/ASL_2006_10_10_scene6-camera1_CONFLICT_v0_c7_train.mov\n",
      "filename from videocapture =  /Users/gautamkarnataki/MIDS/w251/project/3dcnn/data/video_NEW3/ASL_2008_01_18_scene15-camera1_DEPRESS_v0_c0_train.mov\n"
     ]
    },
    {
     "name": "stderr",
     "output_type": "stream",
     "text": [
      "  4%|▍         | 6/142 [00:00<00:10, 13.23it/s]"
     ]
    },
    {
     "name": "stdout",
     "output_type": "stream",
     "text": [
      "filename from videocapture =  /Users/gautamkarnataki/MIDS/w251/project/3dcnn/data/video_NEW3/ASL_2006_10_10_scene7-camera1_DOCTOR_v1_c6_train.mov\n",
      "filename from videocapture =  /Users/gautamkarnataki/MIDS/w251/project/3dcnn/data/video_NEW3/ASL_2008_05_12b_scene1-camera1_CHAT_v2_c3_train.mov\n",
      "filename from videocapture =  /Users/gautamkarnataki/MIDS/w251/project/3dcnn/data/video_NEW3/ASL_2007_05_24_scene10-camera1_COURT_v0_c8_train.mov\n"
     ]
    },
    {
     "name": "stderr",
     "output_type": "stream",
     "text": [
      "\r",
      "  6%|▌         | 8/142 [00:00<00:11, 12.03it/s]"
     ]
    },
    {
     "name": "stdout",
     "output_type": "stream",
     "text": [
      "filename from videocapture =  /Users/gautamkarnataki/MIDS/w251/project/3dcnn/data/video_NEW3/ASL_2008_08_04_scene7-camera1_AGAIN_v2_c5_train.mov\n",
      "filename from videocapture =  /Users/gautamkarnataki/MIDS/w251/project/3dcnn/data/video_NEW3/ASL_2010_08_10_Liz_additional_lexicon_signs_scene18-camera1_CONFLICT_v0_c1_test.mov\n"
     ]
    },
    {
     "name": "stderr",
     "output_type": "stream",
     "text": [
      "  7%|▋         | 10/142 [00:00<00:12, 10.25it/s]"
     ]
    },
    {
     "name": "stdout",
     "output_type": "stream",
     "text": [
      "filename from videocapture =  /Users/gautamkarnataki/MIDS/w251/project/3dcnn/data/video_NEW3/ASL_2008_01_11_scene81-camera1_DRESS_v1_c0_train.mov\n",
      "filename from videocapture =  /Users/gautamkarnataki/MIDS/w251/project/3dcnn/data/video_NEW3/ASL_2006_10_10_scene8-camera1_ENOUGH_v1_c4_train.mov\n",
      "filename from videocapture =  /Users/gautamkarnataki/MIDS/w251/project/3dcnn/data/video_NEW3/ASL_2008_01_11_scene38-camera1_BEHAVIOR_v0_c0_train.mov\n"
     ]
    },
    {
     "name": "stderr",
     "output_type": "stream",
     "text": [
      " 10%|▉         | 14/142 [00:01<00:12, 10.59it/s]"
     ]
    },
    {
     "name": "stdout",
     "output_type": "stream",
     "text": [
      "filename from videocapture =  /Users/gautamkarnataki/MIDS/w251/project/3dcnn/data/video_NEW3/ASL_2011_06_14_Brady_scene12-camera1_ENOUGH_v1_c3_train.mov\n",
      "filename from videocapture =  /Users/gautamkarnataki/MIDS/w251/project/3dcnn/data/video_NEW3/ASL_2011_06_08_Brady_scene28-camera1_COAT_v0_c3_test.mov\n",
      "filename from videocapture =  /Users/gautamkarnataki/MIDS/w251/project/3dcnn/data/video_NEW3/ASL_2011_06_08_Brady_scene29-camera1_CONFLICT_v0_c4_train.mov\n"
     ]
    },
    {
     "name": "stderr",
     "output_type": "stream",
     "text": [
      "\r",
      " 11%|█▏        | 16/142 [00:01<00:11, 10.73it/s]"
     ]
    },
    {
     "name": "stdout",
     "output_type": "stream",
     "text": [
      "filename from videocapture =  /Users/gautamkarnataki/MIDS/w251/project/3dcnn/data/video_NEW3/ASL_2011_06_08_Brady_scene36-camera1_DOCTOR_v2_c4_train.mov\n",
      "filename from videocapture =  /Users/gautamkarnataki/MIDS/w251/project/3dcnn/data/video_NEW3/ASL_2008_01_11_scene62-camera1_CAN_v0_c0_train.mov\n",
      "filename from videocapture =  /Users/gautamkarnataki/MIDS/w251/project/3dcnn/data/video_NEW3/ASL_2006_10_10_scene6-camera1_COURT_v0_c7_train.mov\n"
     ]
    },
    {
     "name": "stderr",
     "output_type": "stream",
     "text": [
      " 14%|█▍        | 20/142 [00:01<00:10, 11.33it/s]"
     ]
    },
    {
     "name": "stdout",
     "output_type": "stream",
     "text": [
      "filename from videocapture =  /Users/gautamkarnataki/MIDS/w251/project/3dcnn/data/video_NEW3/ASL_2011_06_08_Brady_scene26-camera1_CHEAP_v0_c3_train.mov\n",
      "filename from videocapture =  /Users/gautamkarnataki/MIDS/w251/project/3dcnn/data/video_NEW3/ASL_2007_05_24_scene11-camera1_DEPOSIT_v0_c6_train.mov\n",
      "filename from videocapture =  /Users/gautamkarnataki/MIDS/w251/project/3dcnn/data/video_NEW3/ASL_2008_01_18_scene15-camera1_DEPOSIT_v0_c0_train.mov\n"
     ]
    },
    {
     "name": "stderr",
     "output_type": "stream",
     "text": [
      "\r",
      " 15%|█▌        | 22/142 [00:01<00:10, 11.45it/s]"
     ]
    },
    {
     "name": "stdout",
     "output_type": "stream",
     "text": [
      "filename from videocapture =  /Users/gautamkarnataki/MIDS/w251/project/3dcnn/data/video_NEW3/ASL_2011_06_14_Brady_scene6-camera1_CONFLICT_v0_c5_train.mov\n",
      "filename from videocapture =  /Users/gautamkarnataki/MIDS/w251/project/3dcnn/data/video_NEW3/ASL_2011_06_14_Brady_scene6-camera1_WANT_NEG_v1_c2_train.mov\n",
      "filename from videocapture =  /Users/gautamkarnataki/MIDS/w251/project/3dcnn/data/video_NEW3/ASL_2011_06_08_Brady_scene28-camera1_DRESS_v1_c14_train.mov\n"
     ]
    },
    {
     "name": "stderr",
     "output_type": "stream",
     "text": [
      " 18%|█▊        | 26/142 [00:02<00:10, 11.32it/s]"
     ]
    },
    {
     "name": "stdout",
     "output_type": "stream",
     "text": [
      "filename from videocapture =  /Users/gautamkarnataki/MIDS/w251/project/3dcnn/data/video_NEW3/ASL_2008_05_12a_scene48-camera1_COAT_v0_c1_train.mov\n",
      "filename from videocapture =  /Users/gautamkarnataki/MIDS/w251/project/3dcnn/data/video_NEW3/ASL_2007_05_24_scene7-camera1_BEHAVIOR_v1_c5_train.mov\n"
     ]
    },
    {
     "name": "stderr",
     "output_type": "stream",
     "text": [
      "\r",
      " 20%|█▉        | 28/142 [00:02<00:10, 11.40it/s]"
     ]
    },
    {
     "name": "stdout",
     "output_type": "stream",
     "text": [
      "filename from videocapture =  /Users/gautamkarnataki/MIDS/w251/project/3dcnn/data/video_NEW3/ASL_2011_06_08_Brady_scene9-camera1_AGAIN_v0_c6_test.mov\n",
      "filename from videocapture =  /Users/gautamkarnataki/MIDS/w251/project/3dcnn/data/video_NEW3/ASL_2008_05_12b_scene15-camera1_DEPRESS_v0_c1_train.mov\n",
      "filename from videocapture =  /Users/gautamkarnataki/MIDS/w251/project/3dcnn/data/video_NEW3/ASL_2008_01_11_scene27-camera1_AWKWARD_v0_c0_train.mov\n"
     ]
    },
    {
     "name": "stderr",
     "output_type": "stream",
     "text": [
      "\r",
      " 21%|██        | 30/142 [00:02<00:10, 11.00it/s]"
     ]
    },
    {
     "name": "stdout",
     "output_type": "stream",
     "text": [
      "filename from videocapture =  /Users/gautamkarnataki/MIDS/w251/project/3dcnn/data/video_NEW3/ASL_2008_08_04_scene8-camera1_ALL_v0_c2_test.mov\n",
      "filename from videocapture =  /Users/gautamkarnataki/MIDS/w251/project/3dcnn/data/video_NEW3/ASL_2008_08_06_scene21-camera1_DOCTOR_v0_c3_test.mov\n",
      "filename from videocapture =  /Users/gautamkarnataki/MIDS/w251/project/3dcnn/data/video_NEW3/ASL_2008_05_12b_scene14-camera1_DEPOSIT_v0_c2_train.mov\n"
     ]
    },
    {
     "name": "stderr",
     "output_type": "stream",
     "text": [
      " 24%|██▍       | 34/142 [00:02<00:09, 11.51it/s]"
     ]
    },
    {
     "name": "stdout",
     "output_type": "stream",
     "text": [
      "filename from videocapture =  /Users/gautamkarnataki/MIDS/w251/project/3dcnn/data/video_NEW3/ASL_2008_08_04_scene45-camera1_CHEAP_v0_c2_train.mov\n",
      "filename from videocapture =  /Users/gautamkarnataki/MIDS/w251/project/3dcnn/data/video_NEW3/ASL_2011_06_08_Brady_scene10-camera1_ALL_v0_c3_train.mov\n",
      "filename from videocapture =  /Users/gautamkarnataki/MIDS/w251/project/3dcnn/data/video_NEW3/ASL_2008_05_12a_scene46-camera1_CHURCH_v1_c1_test.mov\n"
     ]
    },
    {
     "name": "stderr",
     "output_type": "stream",
     "text": [
      "\r",
      " 25%|██▌       | 36/142 [00:03<00:09, 11.04it/s]"
     ]
    },
    {
     "name": "stdout",
     "output_type": "stream",
     "text": [
      "filename from videocapture =  /Users/gautamkarnataki/MIDS/w251/project/3dcnn/data/video_NEW3/ASL_2007_05_24_scene9-camera1_COAT_v0_c5_train.mov\n",
      "filename from videocapture =  /Users/gautamkarnataki/MIDS/w251/project/3dcnn/data/video_NEW3/ASL_2008_01_18_scene3-camera1_CONFLICT_v0_c0_train.mov\n",
      "filename from videocapture =  /Users/gautamkarnataki/MIDS/w251/project/3dcnn/data/video_NEW3/ASL_2006_10_10_scene8-camera1_DRESS_v0_c17_test.mov\n"
     ]
    },
    {
     "name": "stderr",
     "output_type": "stream",
     "text": [
      " 28%|██▊       | 40/142 [00:03<00:08, 11.84it/s]"
     ]
    },
    {
     "name": "stdout",
     "output_type": "stream",
     "text": [
      "filename from videocapture =  /Users/gautamkarnataki/MIDS/w251/project/3dcnn/data/video_NEW3/ASL_2008_05_12a_scene44-camera1_CHEAP_v0_c1_train.mov\n",
      "filename from videocapture =  /Users/gautamkarnataki/MIDS/w251/project/3dcnn/data/video_NEW3/ASL_2008_08_04_scene48-camera1_CHURCH_v1_c2_train.mov\n",
      "filename from videocapture =  /Users/gautamkarnataki/MIDS/w251/project/3dcnn/data/video_NEW3/ASL_2011_06_08_Brady_scene14-camera1_AWKWARD_v0_c3_train.mov\n"
     ]
    },
    {
     "name": "stderr",
     "output_type": "stream",
     "text": [
      "\r",
      " 30%|██▉       | 42/142 [00:03<00:08, 11.36it/s]"
     ]
    },
    {
     "name": "stdout",
     "output_type": "stream",
     "text": [
      "filename from videocapture =  /Users/gautamkarnataki/MIDS/w251/project/3dcnn/data/video_NEW3/ASL_2007_05_24_scene8-camera1_CHAT_v2_c9_train.mov\n",
      "filename from videocapture =  /Users/gautamkarnataki/MIDS/w251/project/3dcnn/data/video_NEW3/ASL_2007_05_24_scene10-camera1_CONFLICT_v0_c8_train.mov\n",
      "filename from videocapture =  /Users/gautamkarnataki/MIDS/w251/project/3dcnn/data/video_NEW3/ASL_2011_06_14_Brady_scene7-camera1_DRESS_v1_c15_train.mov\n"
     ]
    },
    {
     "name": "stderr",
     "output_type": "stream",
     "text": [
      " 32%|███▏      | 46/142 [00:04<00:07, 12.31it/s]"
     ]
    },
    {
     "name": "stdout",
     "output_type": "stream",
     "text": [
      "filename from videocapture =  /Users/gautamkarnataki/MIDS/w251/project/3dcnn/data/video_NEW3/ASL_2007_05_24_scene12-camera1_DRESS_v0_c18_train.mov\n",
      "filename from videocapture =  /Users/gautamkarnataki/MIDS/w251/project/3dcnn/data/video_NEW3/ASL_2008_08_04_scene21-camera1_BASEBALL_v0_c0_test.mov\n",
      "filename from videocapture =  /Users/gautamkarnataki/MIDS/w251/project/3dcnn/data/video_NEW3/ASL_2011_06_08_Brady_scene25-camera1_CAN_v0_c4_train.mov\n",
      "filename from videocapture =  /Users/gautamkarnataki/MIDS/w251/project/3dcnn/data/video_NEW3/ASL_2007_05_24_scene11-camera1_DEPRESS_v0_c6_test.mov\n"
     ]
    },
    {
     "name": "stderr",
     "output_type": "stream",
     "text": [
      " 35%|███▌      | 50/142 [00:04<00:08, 11.45it/s]"
     ]
    },
    {
     "name": "stdout",
     "output_type": "stream",
     "text": [
      "filename from videocapture =  /Users/gautamkarnataki/MIDS/w251/project/3dcnn/data/video_NEW3/ASL_2011_06_08_Brady_scene30-camera1_COURT_v0_c5_train.mov\n",
      "filename from videocapture =  /Users/gautamkarnataki/MIDS/w251/project/3dcnn/data/video_NEW3/ASL_2008_05_12a_scene44-camera1_CHEAT_v2_c1_train.mov\n"
     ]
    },
    {
     "name": "stderr",
     "output_type": "stream",
     "text": [
      "\r",
      " 37%|███▋      | 52/142 [00:04<00:08, 11.20it/s]"
     ]
    },
    {
     "name": "stdout",
     "output_type": "stream",
     "text": [
      "filename from videocapture =  /Users/gautamkarnataki/MIDS/w251/project/3dcnn/data/video_NEW3/ASL_2006_10_10_scene3-camera1_AWKWARD_v0_c4_test.mov\n",
      "filename from videocapture =  /Users/gautamkarnataki/MIDS/w251/project/3dcnn/data/video_NEW3/ASL_2008_01_11_scene77-camera1_CHURCH_v1_c0_train.mov\n",
      "filename from videocapture =  /Users/gautamkarnataki/MIDS/w251/project/3dcnn/data/video_NEW3/ASL_2008_05_29a_scene3-camera1_DRESS_v0_c8_train.mov\n"
     ]
    },
    {
     "name": "stderr",
     "output_type": "stream",
     "text": [
      "\r",
      " 38%|███▊      | 54/142 [00:04<00:07, 11.00it/s]"
     ]
    },
    {
     "name": "stdout",
     "output_type": "stream",
     "text": [
      "filename from videocapture =  /Users/gautamkarnataki/MIDS/w251/project/3dcnn/data/video_NEW3/ASL_2008_01_11_scene9-camera1_AGAIN_v2_c1_train.mov\n",
      "filename from videocapture =  /Users/gautamkarnataki/MIDS/w251/project/3dcnn/data/video_NEW3/ASL_2008_01_11_scene71-camera1_CHAT_v2_c0_train.mov\n"
     ]
    },
    {
     "name": "stderr",
     "output_type": "stream",
     "text": [
      "\r",
      " 39%|███▉      | 56/142 [00:04<00:08, 10.57it/s]"
     ]
    },
    {
     "name": "stdout",
     "output_type": "stream",
     "text": [
      "filename from videocapture =  /Users/gautamkarnataki/MIDS/w251/project/3dcnn/data/video_NEW3/ASL_2008_01_11_scene11-camera1_ALL_v0_c0_train.mov\n",
      "filename from videocapture =  /Users/gautamkarnataki/MIDS/w251/project/3dcnn/data/video_NEW3/ASL_2007_05_24_scene9-camera1_CHURCH_v2_c5_train.mov\n"
     ]
    },
    {
     "name": "stderr",
     "output_type": "stream",
     "text": [
      "\r",
      " 41%|████      | 58/142 [00:05<00:07, 11.38it/s]"
     ]
    },
    {
     "name": "stdout",
     "output_type": "stream",
     "text": [
      "filename from videocapture =  /Users/gautamkarnataki/MIDS/w251/project/3dcnn/data/video_NEW3/ASL_2007_05_24_scene12-camera1_ENOUGH_v1_c5_train.mov\n",
      "filename from videocapture =  /Users/gautamkarnataki/MIDS/w251/project/3dcnn/data/video_NEW3/ASL_2008_08_06_scene24-camera1_DRESS_v0_c13_train.mov\n",
      "filename from videocapture =  /Users/gautamkarnataki/MIDS/w251/project/3dcnn/data/video_NEW3/ASL_2008_05_12b_scene2-camera1_CONFLICT_v0_c2_train.mov\n"
     ]
    },
    {
     "name": "stderr",
     "output_type": "stream",
     "text": [
      " 44%|████▎     | 62/142 [00:05<00:07, 11.26it/s]"
     ]
    },
    {
     "name": "stdout",
     "output_type": "stream",
     "text": [
      "filename from videocapture =  /Users/gautamkarnataki/MIDS/w251/project/3dcnn/data/video_NEW3/ASL_2008_05_12a_scene39-camera1_CAN_v0_c2_train.mov\n",
      "filename from videocapture =  /Users/gautamkarnataki/MIDS/w251/project/3dcnn/data/video_NEW3/ASL_2008_01_11_scene71-camera1_CHEAP_v0_c0_test.mov\n",
      "filename from videocapture =  /Users/gautamkarnataki/MIDS/w251/project/3dcnn/data/video_NEW3/ASL_2008_08_06_scene1-camera1_CHAT_v2_c5_train.mov\n"
     ]
    },
    {
     "name": "stderr",
     "output_type": "stream",
     "text": [
      "\r",
      " 45%|████▌     | 64/142 [00:05<00:07, 11.07it/s]"
     ]
    },
    {
     "name": "stdout",
     "output_type": "stream",
     "text": [
      "filename from videocapture =  /Users/gautamkarnataki/MIDS/w251/project/3dcnn/data/video_NEW3/ASL_2007_05_24_scene11-camera1_DOCTOR_v1_c7_train.mov\n",
      "filename from videocapture =  /Users/gautamkarnataki/MIDS/w251/project/3dcnn/data/video_NEW3/ASL_2011_07_19_Brady_scene39-camera1_CAN_v2_c5_train.mov\n",
      "filename from videocapture =  /Users/gautamkarnataki/MIDS/w251/project/3dcnn/data/video_NEW3/ASL_2011_06_14_Brady_scene7-camera1_DRESS_v0_c16_test.mov\n"
     ]
    },
    {
     "name": "stderr",
     "output_type": "stream",
     "text": [
      " 48%|████▊     | 68/142 [00:06<00:06, 11.06it/s]"
     ]
    },
    {
     "name": "stdout",
     "output_type": "stream",
     "text": [
      "filename from videocapture =  /Users/gautamkarnataki/MIDS/w251/project/3dcnn/data/video_NEW3/ASL_2008_08_06_scene15-camera1_DEPRESS_v0_c2_train.mov\n",
      "filename from videocapture =  /Users/gautamkarnataki/MIDS/w251/project/3dcnn/data/video_NEW3/ASL_2008_01_18_scene23-camera1_DRESS_v1_c1_train.mov\n",
      "filename from videocapture =  /Users/gautamkarnataki/MIDS/w251/project/3dcnn/data/video_NEW3/ASL_2006_10_10_scene5-camera1_CHEAP_v0_c4_train.mov\n"
     ]
    },
    {
     "name": "stderr",
     "output_type": "stream",
     "text": [
      "\r",
      " 49%|████▉     | 70/142 [00:06<00:06, 11.27it/s]"
     ]
    },
    {
     "name": "stdout",
     "output_type": "stream",
     "text": [
      "filename from videocapture =  /Users/gautamkarnataki/MIDS/w251/project/3dcnn/data/video_NEW3/ASL_2006_10_10_scene7-camera1_WANT_NEG_v1_c3_train.mov\n",
      "filename from videocapture =  /Users/gautamkarnataki/MIDS/w251/project/3dcnn/data/video_NEW3/ASL_2008_05_12a_scene48-camera1_DRESS_v2_c6_train.mov\n",
      "filename from videocapture =  /Users/gautamkarnataki/MIDS/w251/project/3dcnn/data/video_NEW3/ASL_2006_10_10_scene3-camera1_BASEBALL_v1_c1_train.mov\n"
     ]
    },
    {
     "name": "stderr",
     "output_type": "stream",
     "text": [
      " 52%|█████▏    | 74/142 [00:06<00:06, 11.30it/s]"
     ]
    },
    {
     "name": "stdout",
     "output_type": "stream",
     "text": [
      "filename from videocapture =  /Users/gautamkarnataki/MIDS/w251/project/3dcnn/data/video_NEW3/ASL_2011_06_08_Brady_scene26-camera1_CHEAT_v2_c4_test.mov\n",
      "filename from videocapture =  /Users/gautamkarnataki/MIDS/w251/project/3dcnn/data/video_NEW3/ASL_2011_06_08_Brady_scene33-camera1_DEPRESS_v0_c4_train.mov\n",
      "filename from videocapture =  /Users/gautamkarnataki/MIDS/w251/project/3dcnn/data/video_NEW3/ASL_2008_05_12a_scene8-camera1_AGAIN_v1_c3_test.mov\n"
     ]
    },
    {
     "name": "stderr",
     "output_type": "stream",
     "text": [
      "\r",
      " 54%|█████▎    | 76/142 [00:06<00:06, 10.99it/s]"
     ]
    },
    {
     "name": "stdout",
     "output_type": "stream",
     "text": [
      "filename from videocapture =  /Users/gautamkarnataki/MIDS/w251/project/3dcnn/data/video_NEW3/ASL_2011_06_08_Brady_scene26-camera1_CHAT_v2_c6_test.mov\n",
      "filename from videocapture =  /Users/gautamkarnataki/MIDS/w251/project/3dcnn/data/video_NEW3/ASL_2008_08_06_scene6-camera1_COURT_v0_c3_train.mov\n",
      "filename from videocapture =  /Users/gautamkarnataki/MIDS/w251/project/3dcnn/data/video_NEW3/ASL_2008_08_04_scene50-camera1_COAT_v0_c2_train.mov"
     ]
    },
    {
     "name": "stderr",
     "output_type": "stream",
     "text": [
      "\r",
      " 55%|█████▍    | 78/142 [00:06<00:05, 10.79it/s]"
     ]
    },
    {
     "name": "stdout",
     "output_type": "stream",
     "text": [
      "\n",
      "filename from videocapture =  /Users/gautamkarnataki/MIDS/w251/project/3dcnn/data/video_NEW3/ASL_2008_08_06_scene22-camera1_WANT_NEG_v1_c1_train.mov\n",
      "filename from videocapture =  /Users/gautamkarnataki/MIDS/w251/project/3dcnn/data/video_NEW3/ASL_2006_10_10_scene5-camera1_COAT_v0_c4_test.mov\n"
     ]
    },
    {
     "name": "stderr",
     "output_type": "stream",
     "text": [
      " 58%|█████▊    | 82/142 [00:07<00:05, 11.59it/s]"
     ]
    },
    {
     "name": "stdout",
     "output_type": "stream",
     "text": [
      "filename from videocapture =  /Users/gautamkarnataki/MIDS/w251/project/3dcnn/data/video_NEW3/ASL_2011_06_14_Brady_scene43-camera1_COURT_v0_c6_train.mov\n",
      "filename from videocapture =  /Users/gautamkarnataki/MIDS/w251/project/3dcnn/data/video_NEW3/ASL_2011_06_14_Brady_scene41-camera1_CONFLICT_v0_c6_train.mov\n",
      "filename from videocapture =  /Users/gautamkarnataki/MIDS/w251/project/3dcnn/data/video_NEW3/ASL_2008_05_12a_scene9-camera1_ALL_v0_c1_train.mov\n"
     ]
    },
    {
     "name": "stderr",
     "output_type": "stream",
     "text": [
      "\r",
      " 59%|█████▉    | 84/142 [00:07<00:05, 11.32it/s]"
     ]
    },
    {
     "name": "stdout",
     "output_type": "stream",
     "text": [
      "filename from videocapture =  /Users/gautamkarnataki/MIDS/w251/project/3dcnn/data/video_NEW3/ASL_2007_05_24_scene5-camera1_ALL_v0_c5_train.mov\n",
      "filename from videocapture =  /Users/gautamkarnataki/MIDS/w251/project/3dcnn/data/video_NEW3/ASL_2008_05_12a_scene18-camera1_AWKWARD_v0_c1_train.mov\n",
      "filename from videocapture =  /Users/gautamkarnataki/MIDS/w251/project/3dcnn/data/video_NEW3/ASL_2011_06_08_Brady_scene33-camera1_DEPOSIT_v0_c4_train.mov\n"
     ]
    },
    {
     "name": "stderr",
     "output_type": "stream",
     "text": [
      " 62%|██████▏   | 88/142 [00:07<00:04, 11.24it/s]"
     ]
    },
    {
     "name": "stdout",
     "output_type": "stream",
     "text": [
      "filename from videocapture =  /Users/gautamkarnataki/MIDS/w251/project/3dcnn/data/video_NEW3/ASL_2007_05_24_scene9-camera1_CHEAP_v0_c5_train.mov\n",
      "filename from videocapture =  /Users/gautamkarnataki/MIDS/w251/project/3dcnn/data/video_NEW3/ASL_2008_01_18_scene24-camera1_DRESS_v0_c4_train.mov\n",
      "filename from videocapture =  /Users/gautamkarnataki/MIDS/w251/project/3dcnn/data/video_NEW3/ASL_2006_10_10_scene7-camera1_DEPOSIT_v0_c5_train.mov\n"
     ]
    },
    {
     "name": "stderr",
     "output_type": "stream",
     "text": [
      "\r",
      " 63%|██████▎   | 90/142 [00:07<00:04, 11.53it/s]"
     ]
    },
    {
     "name": "stdout",
     "output_type": "stream",
     "text": [
      "filename from videocapture =  /Users/gautamkarnataki/MIDS/w251/project/3dcnn/data/video_NEW3/ASL_2008_05_29a_scene12-camera1_ENOUGH_v1_c1_test.mov\n",
      "filename from videocapture =  /Users/gautamkarnataki/MIDS/w251/project/3dcnn/data/video_NEW3/ASL_2008_01_18_scene32-camera1_ENOUGH_v1_c0_train.mov\n",
      "filename from videocapture =  /Users/gautamkarnataki/MIDS/w251/project/3dcnn/data/video_NEW3/ASL_2008_01_18_scene22-camera1_WANT_NEG_v1_c0_test.mov\n"
     ]
    },
    {
     "name": "stderr",
     "output_type": "stream",
     "text": [
      " 66%|██████▌   | 94/142 [00:08<00:04, 11.88it/s]"
     ]
    },
    {
     "name": "stdout",
     "output_type": "stream",
     "text": [
      "filename from videocapture =  /Users/gautamkarnataki/MIDS/w251/project/3dcnn/data/video_NEW3/ASL_2006_10_10_scene2-camera1_ALL_v0_c4_train.mov\n",
      "filename from videocapture =  /Users/gautamkarnataki/MIDS/w251/project/3dcnn/data/video_NEW3/ASL_2008_08_04_scene40-camera1_CAN_v0_c3_train.mov\n",
      "filename from videocapture =  /Users/gautamkarnataki/MIDS/w251/project/3dcnn/data/video_NEW3/ASL_2008_08_04_scene28-camera1_DOCTOR_v1_c2_train.mov\n"
     ]
    },
    {
     "name": "stderr",
     "output_type": "stream",
     "text": [
      "\r",
      " 68%|██████▊   | 96/142 [00:08<00:03, 11.53it/s]"
     ]
    },
    {
     "name": "stdout",
     "output_type": "stream",
     "text": [
      "filename from videocapture =  /Users/gautamkarnataki/MIDS/w251/project/3dcnn/data/video_NEW3/ASL_2008_05_12a_scene24-camera1_BEHAVIOR_v1_c1_test.mov\n",
      "filename from videocapture =  /Users/gautamkarnataki/MIDS/w251/project/3dcnn/data/video_NEW3/ASL_2011_07_22_Brady_scene40-camera1_CHAT_v2_c7_train.mov\n",
      "filename from videocapture =  /Users/gautamkarnataki/MIDS/w251/project/3dcnn/data/video_NEW3/ASL_2006_10_10_scene4-camera1_CHAT_v2_c8_train.mov\n"
     ]
    },
    {
     "name": "stderr",
     "output_type": "stream",
     "text": [
      " 70%|███████   | 100/142 [00:08<00:03, 11.04it/s]"
     ]
    },
    {
     "name": "stdout",
     "output_type": "stream",
     "text": [
      "filename from videocapture =  /Users/gautamkarnataki/MIDS/w251/project/3dcnn/data/video_NEW3/ASL_2008_08_04_scene7-camera1_AGAIN_v0_c4_train.mov\n",
      "filename from videocapture =  /Users/gautamkarnataki/MIDS/w251/project/3dcnn/data/video_NEW3/ASL_2011_06_14_Brady_scene2-camera1_AGAIN_v3_c7_train.mov\n",
      "filename from videocapture =  /Users/gautamkarnataki/MIDS/w251/project/3dcnn/data/video_NEW3/ASL_2008_08_06_scene2-camera1_CONFLICT_v0_c3_train.mov\n"
     ]
    },
    {
     "name": "stderr",
     "output_type": "stream",
     "text": [
      "\r",
      " 72%|███████▏  | 102/142 [00:09<00:03, 11.03it/s]"
     ]
    },
    {
     "name": "stdout",
     "output_type": "stream",
     "text": [
      "filename from videocapture =  /Users/gautamkarnataki/MIDS/w251/project/3dcnn/data/video_NEW3/ASL_2007_05_24_scene11-camera1_WANT_NEG_v1_c4_train.mov\n",
      "filename from videocapture =  /Users/gautamkarnataki/MIDS/w251/project/3dcnn/data/video_NEW3/ASL_2008_01_18_scene24-camera1_DRESS_v0_c2_train.mov\n",
      "filename from videocapture =  /Users/gautamkarnataki/MIDS/w251/project/3dcnn/data/video_NEW3/ASL_2008_02_01_scene38-camera1_COURT_v0_c1_train.mov\n"
     ]
    },
    {
     "name": "stderr",
     "output_type": "stream",
     "text": [
      " 75%|███████▍  | 106/142 [00:09<00:03, 10.84it/s]"
     ]
    },
    {
     "name": "stdout",
     "output_type": "stream",
     "text": [
      "filename from videocapture =  /Users/gautamkarnataki/MIDS/w251/project/3dcnn/data/video_NEW3/ASL_2008_05_12a_scene44-camera1_CHAT_v2_c2_test.mov\n",
      "filename from videocapture =  /Users/gautamkarnataki/MIDS/w251/project/3dcnn/data/video_NEW3/ASL_2006_10_10_scene7-camera1_DEPRESS_v0_c5_train.mov\n",
      "filename from videocapture =  /Users/gautamkarnataki/MIDS/w251/project/3dcnn/data/video_NEW3/ASL_2007_05_24_scene8-camera1_CAN_v0_c7_train.mov\n"
     ]
    },
    {
     "name": "stderr",
     "output_type": "stream",
     "text": [
      "\r",
      " 76%|███████▌  | 108/142 [00:09<00:03, 11.03it/s]"
     ]
    },
    {
     "name": "stdout",
     "output_type": "stream",
     "text": [
      "filename from videocapture =  /Users/gautamkarnataki/MIDS/w251/project/3dcnn/data/video_NEW3/ASL_2008_08_04_scene45-camera1_CHEAT_v0_c2_train.mov\n",
      "filename from videocapture =  /Users/gautamkarnataki/MIDS/w251/project/3dcnn/data/video_NEW3/ASL_2008_05_12b_scene6-camera1_COURT_v0_c2_test.mov\n",
      "filename from videocapture =  /Users/gautamkarnataki/MIDS/w251/project/3dcnn/data/video_NEW3/ASL_2011_06_08_Brady_scene27-camera1_CHURCH_v1_c3_train.mov\n"
     ]
    },
    {
     "name": "stderr",
     "output_type": "stream",
     "text": [
      " 79%|███████▉  | 112/142 [00:09<00:02, 10.77it/s]"
     ]
    },
    {
     "name": "stdout",
     "output_type": "stream",
     "text": [
      "filename from videocapture =  /Users/gautamkarnataki/MIDS/w251/project/3dcnn/data/video_NEW3/ASL_2008_08_13_scene32-camera1_COURT_v0_c4_train.mov\n",
      "filename from videocapture =  /Users/gautamkarnataki/MIDS/w251/project/3dcnn/data/video_NEW3/ASL_2008_08_06_scene32-camera1_ENOUGH_v1_c2_train.mov\n",
      "filename from videocapture =  /Users/gautamkarnataki/MIDS/w251/project/3dcnn/data/video_NEW3/ASL_2011_07_19_Brady_scene116-camera1_AGAIN_v0_c8_train.mov\n"
     ]
    },
    {
     "name": "stderr",
     "output_type": "stream",
     "text": [
      "\r",
      " 80%|████████  | 114/142 [00:10<00:02, 11.33it/s]"
     ]
    },
    {
     "name": "stdout",
     "output_type": "stream",
     "text": [
      "filename from videocapture =  /Users/gautamkarnataki/MIDS/w251/project/3dcnn/data/video_NEW3/ASL_2008_08_04_scene25-camera1_BEHAVIOR_v1_c3_train.mov\n",
      "filename from videocapture =  /Users/gautamkarnataki/MIDS/w251/project/3dcnn/data/video_NEW3/ASL_2008_05_29a_scene3-camera1_DRESS_v0_c7_train.mov\n",
      "filename from videocapture =  /Users/gautamkarnataki/MIDS/w251/project/3dcnn/data/video_NEW3/ASL_2008_08_06_scene24-camera1_DRESS_v1_c12_train.mov\n"
     ]
    },
    {
     "name": "stderr",
     "output_type": "stream",
     "text": [
      " 83%|████████▎ | 118/142 [00:10<00:02, 10.89it/s]"
     ]
    },
    {
     "name": "stdout",
     "output_type": "stream",
     "text": [
      "filename from videocapture =  /Users/gautamkarnataki/MIDS/w251/project/3dcnn/data/video_NEW3/ASL_2008_05_29a_scene4-camera1_DRESS_v2_c9_train.mov\n",
      "filename from videocapture =  /Users/gautamkarnataki/MIDS/w251/project/3dcnn/data/video_NEW3/ASL_2011_06_08_Brady_scene18-camera1_BEHAVIOR_v1_c4_train.mov\n",
      "filename from videocapture =  /Users/gautamkarnataki/MIDS/w251/project/3dcnn/data/video_NEW3/ASL_2008_05_29a_scene1-camera1_DOCTOR_v3_c1_train.mov\n"
     ]
    },
    {
     "name": "stderr",
     "output_type": "stream",
     "text": [
      "\r",
      " 85%|████████▍ | 120/142 [00:10<00:02, 10.83it/s]"
     ]
    },
    {
     "name": "stdout",
     "output_type": "stream",
     "text": [
      "filename from videocapture =  /Users/gautamkarnataki/MIDS/w251/project/3dcnn/data/video_NEW3/ASL_2011_06_08_Brady_scene37-camera1_DOCTOR_v1_c5_train.mov\n",
      "filename from videocapture =  /Users/gautamkarnataki/MIDS/w251/project/3dcnn/data/video_NEW3/ASL_2008_08_04_scene18-camera1_AWKWARD_v0_c2_train.mov\n",
      "filename from videocapture =  /Users/gautamkarnataki/MIDS/w251/project/3dcnn/data/video_NEW3/ASL_2008_05_29a_scene4-camera1_DRESS_v0_c10_train.mov\n"
     ]
    },
    {
     "name": "stderr",
     "output_type": "stream",
     "text": [
      " 87%|████████▋ | 124/142 [00:10<00:01, 11.55it/s]"
     ]
    },
    {
     "name": "stdout",
     "output_type": "stream",
     "text": [
      "filename from videocapture =  /Users/gautamkarnataki/MIDS/w251/project/3dcnn/data/video_NEW3/ASL_2006_10_10_scene4-camera1_CAN_v0_c6_test.mov\n",
      "filename from videocapture =  /Users/gautamkarnataki/MIDS/w251/project/3dcnn/data/video_NEW3/ASL_2008_08_04_scene50-camera1_DRESS_v1_c11_train.mov\n",
      "filename from videocapture =  /Users/gautamkarnataki/MIDS/w251/project/3dcnn/data/video_NEW3/ASL_2008_08_04_scene45-camera1_CHAT_v1_c4_train.mov\n"
     ]
    },
    {
     "name": "stderr",
     "output_type": "stream",
     "text": [
      "\r",
      " 89%|████████▊ | 126/142 [00:11<00:01, 11.67it/s]"
     ]
    },
    {
     "name": "stdout",
     "output_type": "stream",
     "text": [
      "filename from videocapture =  /Users/gautamkarnataki/MIDS/w251/project/3dcnn/data/video_NEW3/ASL_2008_01_18_scene24-camera1_DRESS_v1_c3_test.mov\n",
      "filename from videocapture =  /Users/gautamkarnataki/MIDS/w251/project/3dcnn/data/video_NEW3/ASL_2010_08_10_Liz_additional_lexicon_signs_scene15-camera1_DEPOSIT_v0_c1_test.mov\n",
      "filename from videocapture =  /Users/gautamkarnataki/MIDS/w251/project/3dcnn/data/video_NEW3/ASL_2008_01_18_scene1-camera1_CHAT_v1_c1_train.mov\n"
     ]
    },
    {
     "name": "stderr",
     "output_type": "stream",
     "text": [
      " 92%|█████████▏| 130/142 [00:11<00:01, 10.95it/s]"
     ]
    },
    {
     "name": "stdout",
     "output_type": "stream",
     "text": [
      "filename from videocapture =  /Users/gautamkarnataki/MIDS/w251/project/3dcnn/data/video_NEW3/ASL_2008_02_15_scene45-camera1_CAN_v1_c1_train.mov\n",
      "filename from videocapture =  /Users/gautamkarnataki/MIDS/w251/project/3dcnn/data/video_NEW3/ASL_2008_01_11_scene71-camera1_CHEAT_v2_c0_test.mov\n",
      "filename from videocapture =  /Users/gautamkarnataki/MIDS/w251/project/3dcnn/data/video_NEW3/ASL_2007_05_24_scene7-camera1_AWKWARD_v0_c5_train.mov\n"
     ]
    },
    {
     "name": "stderr",
     "output_type": "stream",
     "text": [
      "\r",
      " 93%|█████████▎| 132/142 [00:11<00:00, 10.83it/s]"
     ]
    },
    {
     "name": "stdout",
     "output_type": "stream",
     "text": [
      "filename from videocapture =  /Users/gautamkarnataki/MIDS/w251/project/3dcnn/data/video_NEW3/ASL_2011_06_08_Brady_scene33-camera1_DEPRESS_v0_c3_train.mov\n",
      "filename from videocapture =  /Users/gautamkarnataki/MIDS/w251/project/3dcnn/data/video_NEW3/ASL_2008_05_12a_scene24-camera1_BEHAVIOR_v1_c2_train.mov\n",
      "filename from videocapture =  /Users/gautamkarnataki/MIDS/w251/project/3dcnn/data/video_NEW3/ASL_2008_01_18_scene21-camera1_DOCTOR_v1_c0_train.mov\n"
     ]
    },
    {
     "name": "stderr",
     "output_type": "stream",
     "text": [
      " 96%|█████████▌| 136/142 [00:12<00:00, 10.92it/s]"
     ]
    },
    {
     "name": "stdout",
     "output_type": "stream",
     "text": [
      "filename from videocapture =  /Users/gautamkarnataki/MIDS/w251/project/3dcnn/data/video_NEW3/ASL_2008_01_18_scene7-camera1_COURT_v0_c0_train.mov\n",
      "filename from videocapture =  /Users/gautamkarnataki/MIDS/w251/project/3dcnn/data/video_NEW3/ASL_2007_05_24_scene5-camera1_AGAIN_v0_c10_train.mov\n",
      "filename from videocapture =  /Users/gautamkarnataki/MIDS/w251/project/3dcnn/data/video_NEW3/ASL_2008_08_06_scene14-camera1_DEPOSIT_v0_c3_train.mov\n"
     ]
    },
    {
     "name": "stderr",
     "output_type": "stream",
     "text": [
      "\r",
      " 97%|█████████▋| 138/142 [00:12<00:00, 11.40it/s]"
     ]
    },
    {
     "name": "stdout",
     "output_type": "stream",
     "text": [
      "filename from videocapture =  /Users/gautamkarnataki/MIDS/w251/project/3dcnn/data/video_NEW3/ASL_2006_10_10_scene5-camera1_CHURCH_v1_c4_train.mov\n",
      "filename from videocapture =  /Users/gautamkarnataki/MIDS/w251/project/3dcnn/data/video_NEW3/ASL_2008_01_11_scene9-camera1_AGAIN_v0_c0_train.mov\n",
      "filename from videocapture =  /Users/gautamkarnataki/MIDS/w251/project/3dcnn/data/video_NEW3/ASL_2006_10_10_scene2-camera1_AGAIN_v0_c9_train.mov\n"
     ]
    },
    {
     "name": "stderr",
     "output_type": "stream",
     "text": [
      "100%|██████████| 142/142 [00:12<00:00, 11.51it/s]"
     ]
    },
    {
     "name": "stdout",
     "output_type": "stream",
     "text": [
      "filename from videocapture =  /Users/gautamkarnataki/MIDS/w251/project/3dcnn/data/video_NEW3/ASL_2008_08_04_scene45-camera1_CHEAT_v0_c3_train.mov\n",
      "filename from videocapture =  /Users/gautamkarnataki/MIDS/w251/project/3dcnn/data/video_NEW3/ASL_2008_05_12a_scene8-camera1_AGAIN_v0_c2_train.mov\n",
      "filename from videocapture =  /Users/gautamkarnataki/MIDS/w251/project/3dcnn/data/video_NEW3/ASL_2008_01_11_scene81-camera1_COAT_v0_c0_train.mov\n"
     ]
    },
    {
     "name": "stderr",
     "output_type": "stream",
     "text": [
      "\r",
      "100%|██████████| 142/142 [00:12<00:00, 11.18it/s]"
     ]
    },
    {
     "name": "stdout",
     "output_type": "stream",
     "text": [
      "result_dir==============> /Users/gautamkarnataki/MIDS/w251/project/3dcnn/3DCNN/3dcnnresult\n",
      "label =============================  DRESS\n",
      "label =============================  CONFLICT\n",
      "label =============================  DEPRESS\n",
      "label =============================  DOCTOR\n",
      "label =============================  CHAT\n",
      "label =============================  COURT\n",
      "label =============================  AGAIN\n",
      "label =============================  ENOUGH\n",
      "label =============================  BEHAVIOR\n",
      "label =============================  COAT\n",
      "label =============================  CAN\n",
      "label =============================  CHEAP\n",
      "label =============================  DEPOSIT\n",
      "label =============================  WANT\n",
      "label =============================  AWKWARD\n",
      "label =============================  ALL\n",
      "label =============================  CHURCH\n",
      "label =============================  BASEBALL\n",
      "label =============================  CHEAT\n",
      "Saved dataset to dataset.npz.\n",
      "X_shape:(142, 32, 32, 10, 3)\n",
      "Y_shape:(142, 19)\n"
     ]
    },
    {
     "name": "stderr",
     "output_type": "stream",
     "text": [
      "\n"
     ]
    }
   ],
   "source": [
    "img_rows, img_cols, frames = 32, 32, depth\n",
    "channel = 3 if color else 1\n",
    "#fname_npz = 'dataset_{}_{}_{}.npz'.format(nclass, depth, skip)\n",
    "vid3d = Videoto3D(img_rows, img_cols, frames)\n",
    "nb_classes = nclass\n",
    "#print(\"fname_npz ==========>\", fname_npz)\n",
    "if os.path.exists(fname_npz):\n",
    "#    loadeddata = np.load(fname_npz)\n",
    "#    X, Y = loadeddata[\"X\"], loadeddata[\"Y\"]\n",
    "#else:\n",
    "    x, y = loaddata(videos, vid3d, nclass, output, color, skip)\n",
    "    X = x.reshape((x.shape[0], img_rows, img_cols, frames, channel))\n",
    "    Y = np_utils.to_categorical(y, nb_classes)\n",
    "    X = X.astype('float32')\n",
    "    #np.savez(fname_npz, X=X, Y=Y)\n",
    "    print('Saved dataset to dataset.npz.')\n",
    "print('X_shape:{}\\nY_shape:{}'.format(X.shape, Y.shape))"
   ]
  },
  {
   "cell_type": "code",
   "execution_count": 171,
   "metadata": {},
   "outputs": [
    {
     "name": "stderr",
     "output_type": "stream",
     "text": [
      "/usr/local/lib/python3.7/site-packages/ipykernel_launcher.py:3: UserWarning: Update your `Conv3D` call to the Keras 2 API: `Conv3D(32, kernel_size=(3, 3, 3), input_shape=(32, 32, 1..., padding=\"same\")`\n",
      "  This is separate from the ipykernel package so we can avoid doing imports until\n",
      "/usr/local/lib/python3.7/site-packages/ipykernel_launcher.py:5: UserWarning: Update your `Conv3D` call to the Keras 2 API: `Conv3D(32, kernel_size=(3, 3, 3), padding=\"same\")`\n",
      "  \"\"\"\n",
      "/usr/local/lib/python3.7/site-packages/ipykernel_launcher.py:7: UserWarning: Update your `MaxPooling3D` call to the Keras 2 API: `MaxPooling3D(pool_size=(3, 3, 3), padding=\"same\")`\n",
      "  import sys\n",
      "/usr/local/lib/python3.7/site-packages/ipykernel_launcher.py:10: UserWarning: Update your `Conv3D` call to the Keras 2 API: `Conv3D(64, kernel_size=(3, 3, 3), padding=\"same\")`\n",
      "  # Remove the CWD from sys.path while we load stuff.\n",
      "/usr/local/lib/python3.7/site-packages/ipykernel_launcher.py:12: UserWarning: Update your `Conv3D` call to the Keras 2 API: `Conv3D(64, kernel_size=(3, 3, 3), padding=\"same\")`\n",
      "  if sys.path[0] == '':\n",
      "/usr/local/lib/python3.7/site-packages/ipykernel_launcher.py:14: UserWarning: Update your `MaxPooling3D` call to the Keras 2 API: `MaxPooling3D(pool_size=(3, 3, 3), padding=\"same\")`\n",
      "  \n"
     ]
    },
    {
     "name": "stdout",
     "output_type": "stream",
     "text": [
      "Model: \"sequential_22\"\n",
      "_________________________________________________________________\n",
      "Layer (type)                 Output Shape              Param #   \n",
      "=================================================================\n",
      "conv3d_85 (Conv3D)           (None, 32, 32, 10, 32)    2624      \n",
      "_________________________________________________________________\n",
      "activation_85 (Activation)   (None, 32, 32, 10, 32)    0         \n",
      "_________________________________________________________________\n",
      "conv3d_86 (Conv3D)           (None, 32, 32, 10, 32)    27680     \n",
      "_________________________________________________________________\n",
      "activation_86 (Activation)   (None, 32, 32, 10, 32)    0         \n",
      "_________________________________________________________________\n",
      "max_pooling3d_43 (MaxPooling (None, 11, 11, 4, 32)     0         \n",
      "_________________________________________________________________\n",
      "dropout_64 (Dropout)         (None, 11, 11, 4, 32)     0         \n",
      "_________________________________________________________________\n",
      "conv3d_87 (Conv3D)           (None, 11, 11, 4, 64)     55360     \n",
      "_________________________________________________________________\n",
      "activation_87 (Activation)   (None, 11, 11, 4, 64)     0         \n",
      "_________________________________________________________________\n",
      "conv3d_88 (Conv3D)           (None, 11, 11, 4, 64)     110656    \n",
      "_________________________________________________________________\n",
      "activation_88 (Activation)   (None, 11, 11, 4, 64)     0         \n",
      "_________________________________________________________________\n",
      "max_pooling3d_44 (MaxPooling (None, 4, 4, 2, 64)       0         \n",
      "_________________________________________________________________\n",
      "dropout_65 (Dropout)         (None, 4, 4, 2, 64)       0         \n",
      "_________________________________________________________________\n",
      "flatten_22 (Flatten)         (None, 2048)              0         \n",
      "_________________________________________________________________\n",
      "dense_43 (Dense)             (None, 512)               1049088   \n",
      "_________________________________________________________________\n",
      "dropout_66 (Dropout)         (None, 512)               0         \n",
      "_________________________________________________________________\n",
      "dense_44 (Dense)             (None, 19)                9747      \n",
      "=================================================================\n",
      "Total params: 1,255,155\n",
      "Trainable params: 1,255,155\n",
      "Non-trainable params: 0\n",
      "_________________________________________________________________\n",
      "Y train = [0. 0. 1. 0. 0. 0. 0. 0. 0. 0. 0. 0. 0. 0. 0. 0. 0. 0. 0.]\n",
      "Y train = [0. 0. 0. 0. 0. 1. 0. 0. 0. 0. 0. 0. 0. 0. 0. 0. 0. 0. 0.]\n",
      "Y train = [0. 0. 0. 0. 0. 0. 0. 0. 0. 0. 0. 1. 0. 0. 0. 0. 0. 0. 0.]\n",
      "Y train = [1. 0. 0. 0. 0. 0. 0. 0. 0. 0. 0. 0. 0. 0. 0. 0. 0. 0. 0.]\n",
      "Y train = [0. 0. 0. 0. 0. 0. 0. 0. 0. 0. 1. 0. 0. 0. 0. 0. 0. 0. 0.]\n",
      "Y train = [0. 0. 0. 0. 0. 0. 0. 0. 0. 1. 0. 0. 0. 0. 0. 0. 0. 0. 0.]\n",
      "Y train = [0. 0. 0. 0. 0. 0. 0. 0. 0. 0. 0. 1. 0. 0. 0. 0. 0. 0. 0.]\n",
      "Y train = [0. 0. 0. 0. 0. 1. 0. 0. 0. 0. 0. 0. 0. 0. 0. 0. 0. 0. 0.]\n",
      "Y train = [0. 0. 0. 0. 0. 1. 0. 0. 0. 0. 0. 0. 0. 0. 0. 0. 0. 0. 0.]\n",
      "Y train = [0. 0. 0. 0. 0. 0. 0. 0. 0. 0. 1. 0. 0. 0. 0. 0. 0. 0. 0.]\n",
      "Y train = [1. 0. 0. 0. 0. 0. 0. 0. 0. 0. 0. 0. 0. 0. 0. 0. 0. 0. 0.]\n",
      "Y train = [0. 0. 0. 1. 0. 0. 0. 0. 0. 0. 0. 0. 0. 0. 0. 0. 0. 0. 0.]\n",
      "Y train = [1. 0. 0. 0. 0. 0. 0. 0. 0. 0. 0. 0. 0. 0. 0. 0. 0. 0. 0.]\n",
      "Y train = [0. 1. 0. 0. 0. 0. 0. 0. 0. 0. 0. 0. 0. 0. 0. 0. 0. 0. 0.]\n",
      "Y train = [0. 0. 0. 1. 0. 0. 0. 0. 0. 0. 0. 0. 0. 0. 0. 0. 0. 0. 0.]\n",
      "Y train = [0. 0. 0. 0. 0. 0. 0. 0. 0. 0. 0. 0. 0. 1. 0. 0. 0. 0. 0.]\n",
      "Y train = [1. 0. 0. 0. 0. 0. 0. 0. 0. 0. 0. 0. 0. 0. 0. 0. 0. 0. 0.]\n",
      "Y train = [0. 0. 0. 1. 0. 0. 0. 0. 0. 0. 0. 0. 0. 0. 0. 0. 0. 0. 0.]\n",
      "Y train = [0. 0. 1. 0. 0. 0. 0. 0. 0. 0. 0. 0. 0. 0. 0. 0. 0. 0. 0.]\n",
      "Y train = [0. 1. 0. 0. 0. 0. 0. 0. 0. 0. 0. 0. 0. 0. 0. 0. 0. 0. 0.]\n",
      "Y train = [0. 0. 0. 1. 0. 0. 0. 0. 0. 0. 0. 0. 0. 0. 0. 0. 0. 0. 0.]\n",
      "Y train = [0. 0. 0. 0. 0. 0. 0. 1. 0. 0. 0. 0. 0. 0. 0. 0. 0. 0. 0.]\n",
      "Y train = [1. 0. 0. 0. 0. 0. 0. 0. 0. 0. 0. 0. 0. 0. 0. 0. 0. 0. 0.]\n",
      "Y train = [1. 0. 0. 0. 0. 0. 0. 0. 0. 0. 0. 0. 0. 0. 0. 0. 0. 0. 0.]\n",
      "Y train = [0. 1. 0. 0. 0. 0. 0. 0. 0. 0. 0. 0. 0. 0. 0. 0. 0. 0. 0.]\n",
      "Y train = [0. 0. 0. 0. 0. 1. 0. 0. 0. 0. 0. 0. 0. 0. 0. 0. 0. 0. 0.]\n",
      "Y train = [0. 0. 0. 0. 0. 0. 0. 0. 0. 0. 0. 0. 0. 0. 0. 0. 1. 0. 0.]\n",
      "Y train = [0. 0. 0. 0. 1. 0. 0. 0. 0. 0. 0. 0. 0. 0. 0. 0. 0. 0. 0.]\n",
      "Y train = [0. 0. 0. 0. 0. 0. 0. 0. 0. 0. 0. 1. 0. 0. 0. 0. 0. 0. 0.]\n",
      "Y train = [0. 0. 0. 0. 0. 0. 0. 0. 0. 0. 0. 1. 0. 0. 0. 0. 0. 0. 0.]\n",
      "Y train = [0. 0. 1. 0. 0. 0. 0. 0. 0. 0. 0. 0. 0. 0. 0. 0. 0. 0. 0.]\n",
      "Y train = [0. 0. 0. 0. 0. 0. 0. 0. 0. 0. 0. 0. 0. 0. 1. 0. 0. 0. 0.]\n",
      "Y train = [1. 0. 0. 0. 0. 0. 0. 0. 0. 0. 0. 0. 0. 0. 0. 0. 0. 0. 0.]\n",
      "Y train = [0. 0. 0. 0. 0. 0. 0. 0. 0. 0. 0. 0. 0. 0. 0. 0. 0. 0. 1.]\n",
      "Y train = [0. 0. 0. 0. 0. 0. 0. 0. 1. 0. 0. 0. 0. 0. 0. 0. 0. 0. 0.]\n",
      "Y train = [0. 0. 0. 0. 0. 0. 0. 0. 0. 0. 0. 0. 0. 0. 0. 0. 1. 0. 0.]\n",
      "Y train = [0. 0. 0. 0. 0. 0. 0. 0. 0. 0. 0. 0. 0. 0. 0. 0. 0. 0. 1.]\n",
      "Y train = [1. 0. 0. 0. 0. 0. 0. 0. 0. 0. 0. 0. 0. 0. 0. 0. 0. 0. 0.]\n",
      "Y train = [1. 0. 0. 0. 0. 0. 0. 0. 0. 0. 0. 0. 0. 0. 0. 0. 0. 0. 0.]\n",
      "Y train = [0. 0. 0. 0. 1. 0. 0. 0. 0. 0. 0. 0. 0. 0. 0. 0. 0. 0. 0.]\n",
      "Y train = [0. 0. 0. 1. 0. 0. 0. 0. 0. 0. 0. 0. 0. 0. 0. 0. 0. 0. 0.]\n",
      "Y train = [0. 0. 0. 0. 0. 0. 0. 0. 0. 0. 0. 0. 0. 0. 1. 0. 0. 0. 0.]\n",
      "Y train = [0. 0. 0. 0. 0. 0. 0. 0. 0. 0. 0. 0. 0. 0. 0. 0. 0. 1. 0.]\n",
      "Y train = [0. 0. 0. 0. 0. 0. 1. 0. 0. 0. 0. 0. 0. 0. 0. 0. 0. 0. 0.]\n",
      "Y train = [0. 0. 0. 0. 0. 0. 0. 0. 0. 0. 0. 0. 0. 0. 0. 1. 0. 0. 0.]\n",
      "Y train = [0. 0. 0. 0. 0. 0. 0. 0. 1. 0. 0. 0. 0. 0. 0. 0. 0. 0. 0.]\n",
      "Y train = [0. 0. 0. 0. 0. 0. 0. 0. 0. 0. 0. 0. 0. 0. 0. 0. 0. 1. 0.]\n",
      "Y train = [0. 0. 0. 0. 1. 0. 0. 0. 0. 0. 0. 0. 0. 0. 0. 0. 0. 0. 0.]\n",
      "Y train = [0. 0. 0. 0. 0. 0. 0. 0. 0. 1. 0. 0. 0. 0. 0. 0. 0. 0. 0.]\n",
      "Y train = [0. 0. 0. 0. 0. 0. 0. 0. 0. 0. 0. 0. 1. 0. 0. 0. 0. 0. 0.]\n",
      "Train on 113 samples, validate on 29 samples\n",
      "Epoch 1/50\n",
      "113/113 [==============================] - 9s 80ms/step - loss: 3.2750 - accuracy: 0.0531 - val_loss: 3.1536 - val_accuracy: 0.1034\n",
      "Epoch 2/50\n",
      "113/113 [==============================] - 12s 103ms/step - loss: 3.0755 - accuracy: 0.1150 - val_loss: 3.3287 - val_accuracy: 0.1034\n",
      "Epoch 3/50\n",
      "113/113 [==============================] - 12s 106ms/step - loss: 3.1578 - accuracy: 0.0619 - val_loss: 3.2805 - val_accuracy: 0.1034\n",
      "Epoch 4/50\n",
      "113/113 [==============================] - 12s 102ms/step - loss: 3.0967 - accuracy: 0.1062 - val_loss: 3.2008 - val_accuracy: 0.1034\n",
      "Epoch 5/50\n",
      "113/113 [==============================] - 15s 133ms/step - loss: 3.1603 - accuracy: 0.0619 - val_loss: 3.1362 - val_accuracy: 0.1034\n",
      "Epoch 6/50\n",
      "113/113 [==============================] - 14s 123ms/step - loss: 3.0322 - accuracy: 0.1504 - val_loss: 3.1333 - val_accuracy: 0.1034\n",
      "Epoch 7/50\n",
      "113/113 [==============================] - 11s 100ms/step - loss: 3.0589 - accuracy: 0.0442 - val_loss: 3.2362 - val_accuracy: 0.1034\n",
      "Epoch 8/50\n",
      "113/113 [==============================] - 13s 111ms/step - loss: 3.0516 - accuracy: 0.0973 - val_loss: 3.1285 - val_accuracy: 0.1034\n",
      "Epoch 9/50\n",
      "113/113 [==============================] - 14s 126ms/step - loss: 3.0032 - accuracy: 0.1150 - val_loss: 3.1392 - val_accuracy: 0.1034\n",
      "Epoch 10/50\n",
      "113/113 [==============================] - 13s 113ms/step - loss: 2.9554 - accuracy: 0.0885 - val_loss: 3.1187 - val_accuracy: 0.1034\n",
      "Epoch 11/50\n",
      "113/113 [==============================] - 11s 101ms/step - loss: 2.9738 - accuracy: 0.1062 - val_loss: 3.1397 - val_accuracy: 0.1379\n",
      "Epoch 12/50\n",
      "113/113 [==============================] - 12s 104ms/step - loss: 2.8579 - accuracy: 0.1681 - val_loss: 3.0817 - val_accuracy: 0.1379\n",
      "Epoch 13/50\n",
      "113/113 [==============================] - 12s 103ms/step - loss: 2.8422 - accuracy: 0.1416 - val_loss: 3.0937 - val_accuracy: 0.1379\n",
      "Epoch 14/50\n",
      "113/113 [==============================] - 11s 96ms/step - loss: 2.7437 - accuracy: 0.2124 - val_loss: 3.0980 - val_accuracy: 0.1034\n",
      "Epoch 15/50\n",
      "113/113 [==============================] - 11s 96ms/step - loss: 2.7852 - accuracy: 0.2035 - val_loss: 3.1478 - val_accuracy: 0.1034\n",
      "Epoch 16/50\n"
     ]
    },
    {
     "name": "stdout",
     "output_type": "stream",
     "text": [
      "113/113 [==============================] - 12s 102ms/step - loss: 2.7447 - accuracy: 0.2478 - val_loss: 3.0926 - val_accuracy: 0.1724\n",
      "Epoch 17/50\n",
      "113/113 [==============================] - 11s 97ms/step - loss: 2.6306 - accuracy: 0.2655 - val_loss: 3.0560 - val_accuracy: 0.1724\n",
      "Epoch 18/50\n",
      "113/113 [==============================] - 11s 96ms/step - loss: 2.5225 - accuracy: 0.3097 - val_loss: 3.0867 - val_accuracy: 0.1379\n",
      "Epoch 19/50\n",
      "113/113 [==============================] - 11s 95ms/step - loss: 2.5857 - accuracy: 0.2389 - val_loss: 3.1152 - val_accuracy: 0.1034\n",
      "Epoch 20/50\n",
      "113/113 [==============================] - 11s 94ms/step - loss: 2.4895 - accuracy: 0.2743 - val_loss: 3.0466 - val_accuracy: 0.1379\n",
      "Epoch 21/50\n",
      "113/113 [==============================] - 14s 123ms/step - loss: 2.3750 - accuracy: 0.2478 - val_loss: 2.9539 - val_accuracy: 0.1379\n",
      "Epoch 22/50\n",
      "113/113 [==============================] - 11s 101ms/step - loss: 2.3221 - accuracy: 0.2920 - val_loss: 2.9376 - val_accuracy: 0.1724\n",
      "Epoch 23/50\n",
      "113/113 [==============================] - 12s 106ms/step - loss: 2.3284 - accuracy: 0.2920 - val_loss: 2.9458 - val_accuracy: 0.1379\n",
      "Epoch 24/50\n",
      "113/113 [==============================] - 13s 113ms/step - loss: 2.1057 - accuracy: 0.3805 - val_loss: 3.0056 - val_accuracy: 0.1379\n",
      "Epoch 25/50\n",
      "113/113 [==============================] - 14s 127ms/step - loss: 2.1096 - accuracy: 0.3628 - val_loss: 3.0559 - val_accuracy: 0.1379\n",
      "Epoch 26/50\n",
      "113/113 [==============================] - 12s 102ms/step - loss: 2.0185 - accuracy: 0.3805 - val_loss: 2.9858 - val_accuracy: 0.1379\n",
      "Epoch 27/50\n",
      "113/113 [==============================] - 11s 100ms/step - loss: 1.9659 - accuracy: 0.5044 - val_loss: 3.0002 - val_accuracy: 0.1379\n",
      "Epoch 28/50\n",
      "113/113 [==============================] - 11s 97ms/step - loss: 1.8938 - accuracy: 0.4336 - val_loss: 3.0848 - val_accuracy: 0.1379\n",
      "Epoch 29/50\n",
      "113/113 [==============================] - 11s 99ms/step - loss: 1.7872 - accuracy: 0.4779 - val_loss: 3.0084 - val_accuracy: 0.1379\n",
      "Epoch 30/50\n",
      "113/113 [==============================] - 11s 93ms/step - loss: 1.7043 - accuracy: 0.5575 - val_loss: 3.0245 - val_accuracy: 0.1379\n",
      "Epoch 31/50\n",
      "113/113 [==============================] - 12s 104ms/step - loss: 1.7380 - accuracy: 0.4513 - val_loss: 2.9812 - val_accuracy: 0.1034\n",
      "Epoch 32/50\n",
      "113/113 [==============================] - 11s 99ms/step - loss: 1.6408 - accuracy: 0.5221 - val_loss: 2.9874 - val_accuracy: 0.1379\n",
      "Epoch 33/50\n",
      "113/113 [==============================] - 10s 92ms/step - loss: 1.5518 - accuracy: 0.5929 - val_loss: 2.9647 - val_accuracy: 0.1379\n",
      "Epoch 34/50\n",
      "113/113 [==============================] - 10s 91ms/step - loss: 1.4233 - accuracy: 0.5664 - val_loss: 3.0045 - val_accuracy: 0.1379\n",
      "Epoch 35/50\n",
      "113/113 [==============================] - 11s 93ms/step - loss: 1.2429 - accuracy: 0.6637 - val_loss: 3.0760 - val_accuracy: 0.1379\n",
      "Epoch 36/50\n",
      "113/113 [==============================] - 11s 93ms/step - loss: 1.2873 - accuracy: 0.6283 - val_loss: 2.9901 - val_accuracy: 0.1724\n",
      "Epoch 37/50\n",
      "113/113 [==============================] - 10s 92ms/step - loss: 1.1554 - accuracy: 0.7257 - val_loss: 3.0087 - val_accuracy: 0.1379\n",
      "Epoch 38/50\n",
      "113/113 [==============================] - 10s 92ms/step - loss: 1.0779 - accuracy: 0.7080 - val_loss: 3.0680 - val_accuracy: 0.1724\n",
      "Epoch 39/50\n",
      "113/113 [==============================] - 10s 91ms/step - loss: 0.9905 - accuracy: 0.7788 - val_loss: 3.0196 - val_accuracy: 0.2069\n",
      "Epoch 40/50\n",
      "113/113 [==============================] - 10s 91ms/step - loss: 0.8992 - accuracy: 0.7788 - val_loss: 3.0892 - val_accuracy: 0.1724\n",
      "Epoch 41/50\n",
      "113/113 [==============================] - 10s 92ms/step - loss: 0.7853 - accuracy: 0.8230 - val_loss: 3.0436 - val_accuracy: 0.1379\n",
      "Epoch 42/50\n",
      "113/113 [==============================] - 11s 97ms/step - loss: 0.8563 - accuracy: 0.8142 - val_loss: 3.0310 - val_accuracy: 0.1379\n",
      "Epoch 43/50\n",
      "113/113 [==============================] - 11s 94ms/step - loss: 0.7977 - accuracy: 0.8673 - val_loss: 3.0867 - val_accuracy: 0.1724\n",
      "Epoch 44/50\n",
      "113/113 [==============================] - 11s 94ms/step - loss: 0.6962 - accuracy: 0.9204 - val_loss: 3.2229 - val_accuracy: 0.1724\n",
      "Epoch 45/50\n",
      "113/113 [==============================] - 11s 96ms/step - loss: 0.6427 - accuracy: 0.8496 - val_loss: 3.2344 - val_accuracy: 0.1724\n",
      "Epoch 46/50\n",
      "113/113 [==============================] - 11s 96ms/step - loss: 0.6072 - accuracy: 0.8496 - val_loss: 3.4104 - val_accuracy: 0.1379\n",
      "Epoch 47/50\n",
      "113/113 [==============================] - 11s 97ms/step - loss: 0.5755 - accuracy: 0.8938 - val_loss: 3.3314 - val_accuracy: 0.1379\n",
      "Epoch 48/50\n",
      "113/113 [==============================] - 11s 98ms/step - loss: 0.4847 - accuracy: 0.9292 - val_loss: 3.2092 - val_accuracy: 0.1724\n",
      "Epoch 49/50\n",
      "113/113 [==============================] - 11s 97ms/step - loss: 0.4278 - accuracy: 0.9469 - val_loss: 3.2130 - val_accuracy: 0.1724\n",
      "Epoch 50/50\n",
      "113/113 [==============================] - 11s 97ms/step - loss: 0.4054 - accuracy: 0.9646 - val_loss: 3.3532 - val_accuracy: 0.1724\n",
      "Test loss: 3.353196859359741\n",
      "Test accuracy: 0.17241379618644714\n"
     ]
    }
   ],
   "source": [
    "# Define model\n",
    "model = Sequential()\n",
    "model.add(Conv3D(32, kernel_size=(3, 3, 3), input_shape=(X.shape[1:]), border_mode='same'))\n",
    "model.add(Activation('relu'))\n",
    "model.add(Conv3D(32, kernel_size=(3, 3, 3), border_mode='same'))\n",
    "model.add(Activation('softmax'))\n",
    "model.add(MaxPooling3D(pool_size=(3, 3, 3), border_mode='same'))\n",
    "model.add(Dropout(0.25))\n",
    "\n",
    "model.add(Conv3D(64, kernel_size=(3, 3, 3), border_mode='same'))\n",
    "model.add(Activation('relu'))\n",
    "model.add(Conv3D(64, kernel_size=(3, 3, 3), border_mode='same'))\n",
    "model.add(Activation('softmax'))\n",
    "model.add(MaxPooling3D(pool_size=(3, 3, 3), border_mode='same'))\n",
    "model.add(Dropout(0.25))\n",
    "\n",
    "model.add(Flatten())\n",
    "model.add(Dense(512, activation='sigmoid'))\n",
    "model.add(Dropout(0.5))\n",
    "model.add(Dense(nb_classes, activation='softmax'))\n",
    "\n",
    "model.compile(loss=categorical_crossentropy,optimizer=Adam(), metrics=['accuracy'])\n",
    "model.summary()\n",
    "X_train, X_test, Y_train, Y_test = train_test_split(X, Y, test_size=0.2, random_state=43)\n",
    "\n",
    "for i in range(50):\n",
    "    print('Y train =', Y_train[i])\n",
    "\n",
    "model.fit(X_train, Y_train, validation_data=(X_test, Y_test), batch_size=batch,\n",
    "                    epochs=epoch, verbose=1, shuffle=True)\n",
    "model.evaluate(X_test, Y_test, verbose=0)\n",
    "model_json = model.to_json()\n",
    "if not os.path.isdir(output):\n",
    "    os.makedirs(output)\n",
    "with open(os.path.join(output, 'ucf101_3dcnnmodel.json'), 'w') as json_file:\n",
    "    json_file.write(model_json)\n",
    "model.save_weights(os.path.join(output, 'ucf101_3dcnnmodel.hd5'))\n",
    "\n",
    "loss, acc = model.evaluate(X_test, Y_test, verbose=0)\n",
    "print('Test loss:', loss)\n",
    "print('Test accuracy:', acc)\n"
   ]
  },
  {
   "cell_type": "code",
   "execution_count": null,
   "metadata": {},
   "outputs": [],
   "source": []
  }
 ],
 "metadata": {
  "kernelspec": {
   "display_name": "Python 3",
   "language": "python",
   "name": "python3"
  },
  "language_info": {
   "codemirror_mode": {
    "name": "ipython",
    "version": 3
   },
   "file_extension": ".py",
   "mimetype": "text/x-python",
   "name": "python",
   "nbconvert_exporter": "python",
   "pygments_lexer": "ipython3",
   "version": "3.7.7"
  }
 },
 "nbformat": 4,
 "nbformat_minor": 2
}
