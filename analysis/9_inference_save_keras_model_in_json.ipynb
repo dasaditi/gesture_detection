{
 "cells": [
  {
   "cell_type": "markdown",
   "metadata": {
    "collapsed": true,
    "pycharm": {
     "is_executing": false,
     "name": "#%% md\n"
    }
   },
   "source": [
    "Previously, models were saved via `ModelCheckpoint`.\n",
    "In this notebook, I save the model into JSON architecture and weights file \n",
    "in an attempt to lower the amount of memory it consumes when loading the model\n",
    "to Jetson TX2. \n",
    "\n",
    "Reference 1: https://stackoverflow.com/questions/59213329/tensorflow-resnet-model-loading-uses-5-gb-of-ram-while-loading-from-weigh\n",
    "Reference 2: https://machinelearningmastery.com/save-load-keras-deep-learning-models/"
   ]
  },
  {
   "cell_type": "code",
   "execution_count": 2,
   "outputs": [
    {
     "name": "stderr",
     "text": [
      "Using TensorFlow backend.\n"
     ],
     "output_type": "stream"
    }
   ],
   "source": [
    "import os\n",
    "import glob\n",
    "import json\n",
    "import numpy as np\n",
    "import cv2\n",
    "from keras.applications.resnet50 import preprocess_input\n",
    "from keras.models import load_model\n",
    "np.random.seed(251)\n",
    "\n",
    "# Below is needed to load model\n",
    "from keras_efficientnets import EfficientNetB0"
   ],
   "metadata": {
    "collapsed": false,
    "pycharm": {
     "name": "#%%\n",
     "is_executing": false
    }
   }
  },
  {
   "cell_type": "code",
   "execution_count": 3,
   "outputs": [],
   "source": [
    "##################################### NEW4_trial4_model2 #####################################\n",
    "project_path = r'D:\\UCBerkeley\\CourseWork\\202001\\W251\\Homework\\Project'\n",
    "dir_openpose = 'openpose_output'\n",
    "\n",
    "# Parameters needed for model scoring\n",
    "model_name = 'Efficientnet_model_weights_NEW4_trial4_model2'\n",
    "model = load_model(os.path.join(project_path, model_name+'.h5'))"
   ],
   "metadata": {
    "collapsed": false,
    "pycharm": {
     "name": "#%%\n",
     "is_executing": false
    }
   }
  },
  {
   "cell_type": "code",
   "execution_count": 4,
   "outputs": [
    {
     "name": "stdout",
     "text": [
      "Saved model to disk\n"
     ],
     "output_type": "stream"
    }
   ],
   "source": [
    "# serialize model to JSON\n",
    "model_json = model.to_json()\n",
    "with open(os.path.join(project_path, model_name+'.json'), \"w\") as json_file:\n",
    "    json_file.write(model_json)\n",
    "# serialize weights to HDF5\n",
    "model.save_weights(os.path.join(project_path, model_name+'_only.h5'))\n",
    "print(\"Saved model to disk\")\n"
   ],
   "metadata": {
    "collapsed": false,
    "pycharm": {
     "name": "#%%\n",
     "is_executing": false
    }
   }
  },
  {
   "cell_type": "code",
   "execution_count": 4,
   "outputs": [
    {
     "name": "stdout",
     "text": [
      "Loaded model from disk\nAGAIN\n18\n"
     ],
     "output_type": "stream"
    }
   ],
   "source": [
    "from keras.preprocessing import image\n",
    "import numpy as np\n",
    "from keras.models import model_from_json\n",
    "project_path = r'D:\\UCBerkeley\\CourseWork\\202001\\W251\\Homework\\Project'\n",
    "dir_openpose = 'openpose_output'\n",
    "dir_test = 'NEW4_manual_optical_flow_output_trial4'\n",
    "\n",
    "class_list = ['AGAIN', 'ALL', 'AWKWARD', 'BASEBALL', 'BEHAVIOR', 'CAN', 'CHAT', 'CHEAP', \n",
    "              'CHEAT', 'CHURCH', 'COAT', 'CONFLICT', 'COURT', 'DEPOSIT', 'DEPRESS', \n",
    "              'DOCTOR', 'DRESS', 'ENOUGH', 'NEG']\n",
    "model_name = 'Efficientnet_model_weights_NEW4_trial4'\n",
    "HEIGHT = 224\n",
    "WIDTH = 224\n",
    "# load json and create model\n",
    "json_file = open(os.path.join(project_path, model_name+'.json'), 'r')\n",
    "loaded_model_json = json_file.read()\n",
    "json_file.close()\n",
    "model_saved = model_from_json(loaded_model_json)\n",
    "# load weights into new model\n",
    "model_saved.load_weights(os.path.join(project_path, model_name+'_only.h5'))\n",
    "print(\"Loaded model from disk\")\n",
    "\n",
    "def conv_index_to_vocab(ind):\n",
    "    temp_dict = dict(enumerate(class_list))\n",
    "    return temp_dict[ind]\n",
    "def conv_vocab_to_index(vocab):\n",
    "    temp_dict = dict(zip(class_list,range(len(class_list))))\n",
    "    return temp_dict[vocab]\n",
    "\n",
    "print(conv_index_to_vocab(0))\n",
    "print(conv_vocab_to_index('NEG'))"
   ],
   "metadata": {
    "collapsed": false,
    "pycharm": {
     "name": "#%%\n",
     "is_executing": false
    }
   }
  },
  {
   "cell_type": "code",
   "execution_count": 5,
   "outputs": [
    {
     "name": "stdout",
     "text": [
      "-----------------\nActual:  AGAIN\nPrediction:  AGAIN\n-----------------\nActual:  ALL\nPrediction:  ENOUGH\n-----------------\nActual:  AWKWARD\nPrediction:  AWKWARD\n-----------------\nActual:  BASEBALL\nPrediction:  ENOUGH\n-----------------",
      "\nActual:  BEHAVIOR\nPrediction:  BEHAVIOR\n-----------------\nActual:  CAN\nPrediction:  CAN\n-----------------\nActual:  CHAT\nPrediction:  COURT\n-----------------\nActual:  CHAT\nPrediction:  CHAT\n",
      "-----------------\nActual:  CHEAP\nPrediction:  CHEAP\n-----------------\nActual:  CHEAT\nPrediction:  CHEAT\n-----------------\nActual:  CHEAT\nPrediction:  BEHAVIOR\n-----------------\nActual:  CHURCH\nPrediction:  CHURCH\n",
      "-----------------\nActual:  COAT\nPrediction:  COAT\n-----------------\nActual:  COAT\nPrediction:  ALL\n-----------------\nActual:  CONFLICT\nPrediction:  CONFLICT\n-----------------\nActual:  COURT\nPrediction:  COURT\n",
      "-----------------\nActual:  DEPOSIT\nPrediction:  DRESS\n-----------------\nActual:  DEPRESS\nPrediction:  DEPRESS\n-----------------\nActual:  DOCTOR\nPrediction:  DOCTOR\n",
      "-----------------\nActual:  DRESS\nPrediction:  DRESS\n-----------------\nActual:  DRESS\nPrediction:  DRESS\n-----------------\nActual:  ENOUGH\nPrediction:  ENOUGH\n-----------------\nActual:  NEG\nPrediction:  DRESS\n"
     ],
     "output_type": "stream"
    }
   ],
   "source": [
    "# Check if accuracy suffers from loading model from JSON\n",
    "# The calculated accuracy is the same\n",
    "\n",
    "correct_count = 0\n",
    "count = 0\n",
    "test_files_lst = [f for f in os.listdir(os.path.join(project_path, dir_openpose, dir_test)) \n",
    "                  if 'test' in f and 'sim0' in f]\n",
    "# test_files_lst = [f for f in os.listdir(os.path.join(project_path, dir_openpose, dir_test)) \n",
    "#                   if 'test' in f]\n",
    "for file in test_files_lst:\n",
    "    img = image.load_img(os.path.join(project_path,dir_openpose, dir_test,file), target_size=(HEIGHT, WIDTH))\n",
    "    x = image.img_to_array(img)\n",
    "    # print(x.shape)\n",
    "    x = np.expand_dims(x, axis=0)\n",
    "    # print(x.shape)\n",
    "    x = preprocess_input(x)\n",
    "    y_pred = model_saved.predict(x)\n",
    "    print('-----------------')\n",
    "    print('Actual: ', file.split('_')[1])\n",
    "    print('Prediction: ', conv_index_to_vocab(np.argmax(y_pred)))\n",
    "    # print(y_pred)\n",
    "    count += 1\n",
    "    if file.split('_')[1] == conv_index_to_vocab(np.argmax(y_pred)):\n",
    "        correct_count += 1 "
   ],
   "metadata": {
    "collapsed": false,
    "pycharm": {
     "name": "#%%\n",
     "is_executing": false
    }
   }
  },
  {
   "cell_type": "code",
   "execution_count": 6,
   "outputs": [
    {
     "name": "stdout",
     "text": [
      "Accuracy =  0.6956521739130435\n"
     ],
     "output_type": "stream"
    }
   ],
   "source": [
    "print('Accuracy = ', correct_count/len(test_files_lst))"
   ],
   "metadata": {
    "collapsed": false,
    "pycharm": {
     "name": "#%%\n",
     "is_executing": false
    }
   }
  },
  {
   "cell_type": "code",
   "execution_count": 6,
   "outputs": [],
   "source": [
    "\n"
   ],
   "metadata": {
    "collapsed": false,
    "pycharm": {
     "name": "#%%\n",
     "is_executing": false
    }
   }
  }
 ],
 "metadata": {
  "kernelspec": {
   "display_name": "Python 3",
   "language": "python",
   "name": "python3"
  },
  "language_info": {
   "codemirror_mode": {
    "name": "ipython",
    "version": 2
   },
   "file_extension": ".py",
   "mimetype": "text/x-python",
   "name": "python",
   "nbconvert_exporter": "python",
   "pygments_lexer": "ipython2",
   "version": "2.7.6"
  },
  "pycharm": {
   "stem_cell": {
    "cell_type": "raw",
    "source": [],
    "metadata": {
     "collapsed": false
    }
   }
  }
 },
 "nbformat": 4,
 "nbformat_minor": 0
}